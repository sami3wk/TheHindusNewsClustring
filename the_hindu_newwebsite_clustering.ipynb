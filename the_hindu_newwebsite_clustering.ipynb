{
 "cells": [
  {
   "cell_type": "code",
   "execution_count": 1,
   "id": "b0c5ec72",
   "metadata": {},
   "outputs": [],
   "source": [
    "from requests import get\n",
    "from bs4 import BeautifulSoup\n",
    "import re\n",
    "import pandas as pd"
   ]
  },
  {
   "cell_type": "code",
   "execution_count": 2,
   "id": "e2d0b306",
   "metadata": {},
   "outputs": [],
   "source": [
    "url = \"https://www.thehindu.com/latest-news/\""
   ]
  },
  {
   "cell_type": "code",
   "execution_count": 3,
   "id": "1a857f45",
   "metadata": {},
   "outputs": [],
   "source": [
    "data = get(url)"
   ]
  },
  {
   "cell_type": "code",
   "execution_count": 5,
   "id": "d7f7f79e",
   "metadata": {},
   "outputs": [],
   "source": [
    "soup = BeautifulSoup(data.content,\"html.parser\")"
   ]
  },
  {
   "cell_type": "code",
   "execution_count": 67,
   "id": "12b6ed45",
   "metadata": {},
   "outputs": [],
   "source": [
    "raw =[]\n",
    "for i in soup.find_all(\"ul\",class_=\"latest-news\"):\n",
    "    i = i.text\n",
    "    i = i.upper()\n",
    "    i = re.sub(\"[^0-9A-Z|,\\n ]\",\"\",i)\n",
    "    a = i.split(\"\\n\")"
   ]
  },
  {
   "cell_type": "code",
   "execution_count": 68,
   "id": "67a7aa9a",
   "metadata": {},
   "outputs": [],
   "source": [
    "for i in range(2,len(a),3):\n",
    "    raw.append(a[i])"
   ]
  },
  {
   "cell_type": "code",
   "execution_count": 75,
   "id": "ffcf91f1",
   "metadata": {},
   "outputs": [],
   "source": [
    "raw1 = []\n",
    "for i in raw:\n",
    "    i = i.split(\"|\")\n",
    "    raw1.append(i)"
   ]
  },
  {
   "cell_type": "code",
   "execution_count": 94,
   "id": "1bd18a00",
   "metadata": {},
   "outputs": [],
   "source": [
    "article = []\n",
    "for i in range(0,386,1):\n",
    "    article.append(raw1[i][0])"
   ]
  },
  {
   "cell_type": "code",
   "execution_count": 99,
   "id": "6962b048",
   "metadata": {},
   "outputs": [],
   "source": [
    "fi_article = []\n",
    "for i in article:\n",
    "    i  = i.rstrip()\n",
    "    fi_article.append(i)"
   ]
  },
  {
   "cell_type": "code",
   "execution_count": 102,
   "id": "d876a1d0",
   "metadata": {},
   "outputs": [],
   "source": [
    "state = []\n",
    "for i in soup.find_all(\"span\",class_=\"homeSection-name\"):\n",
    "    state.append(i.text)"
   ]
  },
  {
   "cell_type": "code",
   "execution_count": 105,
   "id": "afe59309",
   "metadata": {},
   "outputs": [],
   "source": [
    "time = []\n",
    "for i  in soup.find_all(\"span\",class_=\"l-datetime\"):\n",
    "    time.append(i.text)"
   ]
  },
  {
   "cell_type": "code",
   "execution_count": 110,
   "id": "c4e06077",
   "metadata": {},
   "outputs": [],
   "source": [
    "news = pd.DataFrame([fi_article,state,time]).T"
   ]
  },
  {
   "cell_type": "code",
   "execution_count": 112,
   "id": "c0ae690e",
   "metadata": {},
   "outputs": [],
   "source": [
    "news.columns = [\"Title\",\"State\",\"Time\"]"
   ]
  },
  {
   "cell_type": "code",
   "execution_count": 114,
   "id": "e7b55549",
   "metadata": {},
   "outputs": [],
   "source": [
    "from sklearn.feature_extraction.text import TfidfVectorizer\n",
    "tfv = TfidfVectorizer()\n",
    "A = tfv.fit_transform(fi_article).toarray()"
   ]
  },
  {
   "cell_type": "code",
   "execution_count": 115,
   "id": "f53b3bef",
   "metadata": {},
   "outputs": [
    {
     "data": {
      "text/plain": [
       "array([[0., 0., 0., ..., 0., 0., 0.],\n",
       "       [0., 0., 0., ..., 0., 0., 0.],\n",
       "       [0., 0., 0., ..., 0., 0., 0.],\n",
       "       ...,\n",
       "       [0., 0., 0., ..., 0., 0., 0.],\n",
       "       [0., 0., 0., ..., 0., 0., 0.],\n",
       "       [0., 0., 0., ..., 0., 0., 0.]])"
      ]
     },
     "execution_count": 115,
     "metadata": {},
     "output_type": "execute_result"
    }
   ],
   "source": [
    "A"
   ]
  },
  {
   "cell_type": "code",
   "execution_count": 116,
   "id": "39e57694",
   "metadata": {},
   "outputs": [],
   "source": [
    "from sklearn.cluster import KMeans\n",
    "km = KMeans(n_clusters=5)\n",
    "cls = km.fit(A)"
   ]
  },
  {
   "cell_type": "code",
   "execution_count": 117,
   "id": "ef0d7a81",
   "metadata": {},
   "outputs": [
    {
     "data": {
      "text/plain": [
       "array([3, 3, 2, 0, 4, 0, 3, 1, 0, 0, 1, 1, 3, 2, 0, 2, 4, 3, 2, 0, 2, 0,\n",
       "       0, 0, 0, 2, 0, 2, 3, 1, 0, 0, 0, 3, 4, 0, 2, 2, 0, 1, 0, 0, 1, 2,\n",
       "       2, 2, 0, 1, 1, 3, 0, 3, 2, 2, 2, 0, 0, 0, 0, 0, 0, 0, 4, 0, 0, 1,\n",
       "       0, 0, 4, 0, 4, 2, 0, 0, 0, 0, 1, 2, 0, 1, 4, 0, 2, 0, 0, 1, 0, 0,\n",
       "       0, 1, 0, 1, 1, 2, 1, 1, 0, 0, 1, 0, 2, 2, 0, 2, 0, 0, 0, 3, 1, 2,\n",
       "       3, 0, 2, 0, 1, 1, 2, 0, 1, 1, 0, 1, 0, 3, 1, 2, 0, 2, 0, 0, 0, 1,\n",
       "       0, 2, 0, 0, 0, 2, 2, 3, 0, 1, 4, 0, 1, 2, 0, 1, 2, 2, 1, 0, 2, 3,\n",
       "       0, 0, 3, 0, 3, 0, 0, 3, 2, 0, 0, 0, 2, 3, 0, 0, 2, 0, 2, 0, 0, 1,\n",
       "       0, 2, 0, 0, 3, 0, 1, 0, 1, 3, 0, 1, 2, 1, 1, 0, 1, 0, 1, 1, 0, 1,\n",
       "       0, 1, 0, 2, 0, 3, 2, 0, 0, 3, 1, 3, 3, 3, 0, 0, 4, 3, 1, 0, 3, 1,\n",
       "       4, 2, 0, 0, 2, 1, 3, 0, 3, 1, 1, 0, 3, 3, 0, 2, 4, 0, 0, 2, 1, 2,\n",
       "       0, 0, 0, 0, 3, 1, 0, 0, 0, 0, 1, 0, 1, 0, 1, 0, 3, 0, 2, 2, 0, 0,\n",
       "       0, 2, 4, 0, 2, 1, 1, 1, 2, 0, 2, 0, 2, 0, 2, 1, 0, 2, 2, 0, 1, 0,\n",
       "       2, 0, 2, 0, 0, 4, 1, 2, 3, 1, 0, 2, 0, 2, 0, 2, 1, 0, 3, 2, 2, 2,\n",
       "       4, 0, 0, 3, 0, 1, 1, 1, 0, 1, 0, 0, 1, 3, 2, 0, 1, 1, 2, 2, 3, 2,\n",
       "       3, 0, 0, 0, 0, 0, 0, 1, 0, 0, 0, 0, 1, 1, 0, 0, 2, 3, 0, 0, 0, 0,\n",
       "       0, 0, 2, 3, 1, 0, 3, 0, 0, 0, 2, 1, 2, 0, 0, 1, 0, 0, 2, 0, 2, 0,\n",
       "       0, 0, 2, 4, 3, 3, 3, 2, 1, 3, 1, 0])"
      ]
     },
     "execution_count": 117,
     "metadata": {},
     "output_type": "execute_result"
    }
   ],
   "source": [
    "cls.labels_"
   ]
  },
  {
   "cell_type": "code",
   "execution_count": 118,
   "id": "25c49e63",
   "metadata": {},
   "outputs": [],
   "source": [
    "news[\"Cluster\"] = cls.labels_"
   ]
  },
  {
   "cell_type": "code",
   "execution_count": 124,
   "id": "999778d5",
   "metadata": {},
   "outputs": [
    {
     "data": {
      "text/html": [
       "<div>\n",
       "<style scoped>\n",
       "    .dataframe tbody tr th:only-of-type {\n",
       "        vertical-align: middle;\n",
       "    }\n",
       "\n",
       "    .dataframe tbody tr th {\n",
       "        vertical-align: top;\n",
       "    }\n",
       "\n",
       "    .dataframe thead th {\n",
       "        text-align: right;\n",
       "    }\n",
       "</style>\n",
       "<table border=\"1\" class=\"dataframe\">\n",
       "  <thead>\n",
       "    <tr style=\"text-align: right;\">\n",
       "      <th></th>\n",
       "      <th>Title</th>\n",
       "      <th>State</th>\n",
       "      <th>Time</th>\n",
       "      <th>Cluster</th>\n",
       "    </tr>\n",
       "  </thead>\n",
       "  <tbody>\n",
       "    <tr>\n",
       "      <th>4</th>\n",
       "      <td>TWO MORE OMICRON CASES</td>\n",
       "      <td>Kerala</td>\n",
       "      <td>23:16</td>\n",
       "      <td>4</td>\n",
       "    </tr>\n",
       "    <tr>\n",
       "      <th>16</th>\n",
       "      <td>STATE ADDS 181 CASES TO COVID TALLY</td>\n",
       "      <td>Hyderabad</td>\n",
       "      <td>22:47</td>\n",
       "      <td>4</td>\n",
       "    </tr>\n",
       "    <tr>\n",
       "      <th>34</th>\n",
       "      <td>ERODE DISTRICT REPORTS 48 COVID19 CASES</td>\n",
       "      <td>Coimbatore</td>\n",
       "      <td>22:18</td>\n",
       "      <td>4</td>\n",
       "    </tr>\n",
       "    <tr>\n",
       "      <th>62</th>\n",
       "      <td>HC ASKS CB TO CONDUCT PROPER PROBE IN MONSON C...</td>\n",
       "      <td>Kerala</td>\n",
       "      <td>20:51</td>\n",
       "      <td>4</td>\n",
       "    </tr>\n",
       "    <tr>\n",
       "      <th>68</th>\n",
       "      <td>3,471 NEW COVID19 CASES IN STATE</td>\n",
       "      <td>Kerala</td>\n",
       "      <td>20:37</td>\n",
       "      <td>4</td>\n",
       "    </tr>\n",
       "    <tr>\n",
       "      <th>70</th>\n",
       "      <td>ICMR APPROVES INDIGENOUSLY DEVELOPED KIT TO DE...</td>\n",
       "      <td>Health</td>\n",
       "      <td>20:34</td>\n",
       "      <td>4</td>\n",
       "    </tr>\n",
       "    <tr>\n",
       "      <th>80</th>\n",
       "      <td>44 FRESH CASES IN CENTRAL REGION</td>\n",
       "      <td>Tiruchirapalli</td>\n",
       "      <td>20:16</td>\n",
       "      <td>4</td>\n",
       "    </tr>\n",
       "    <tr>\n",
       "      <th>142</th>\n",
       "      <td>44 CRORE SPENT TO ASSIST INDIAN CITIZENS ABROA...</td>\n",
       "      <td>National</td>\n",
       "      <td>18:03</td>\n",
       "      <td>4</td>\n",
       "    </tr>\n",
       "    <tr>\n",
       "      <th>214</th>\n",
       "      <td>NEW DRUG COULD TREAT PATIENTS HOSPITALISED WIT...</td>\n",
       "      <td>Health</td>\n",
       "      <td>12:54</td>\n",
       "      <td>4</td>\n",
       "    </tr>\n",
       "    <tr>\n",
       "      <th>220</th>\n",
       "      <td>DELHI LOGS 10 NEW CASES OF OMICRON, TOTAL REAC...</td>\n",
       "      <td>Delhi</td>\n",
       "      <td>12:42</td>\n",
       "      <td>4</td>\n",
       "    </tr>\n",
       "    <tr>\n",
       "      <th>236</th>\n",
       "      <td>MISS WORLD FINALE POSTPONED DUE TO COVID19 FEARS</td>\n",
       "      <td>International</td>\n",
       "      <td>10:47</td>\n",
       "      <td>4</td>\n",
       "    </tr>\n",
       "    <tr>\n",
       "      <th>266</th>\n",
       "      <td>NO NEW OMICRON CASES, BUT MAHARASHTRAS COVID19...</td>\n",
       "      <td>Other States</td>\n",
       "      <td>03:53</td>\n",
       "      <td>4</td>\n",
       "    </tr>\n",
       "    <tr>\n",
       "      <th>291</th>\n",
       "      <td>ONE DEATH AND 24 FRESH COVID19 CASES IN UT</td>\n",
       "      <td>Puducherry</td>\n",
       "      <td>01:29</td>\n",
       "      <td>4</td>\n",
       "    </tr>\n",
       "    <tr>\n",
       "      <th>308</th>\n",
       "      <td>FRESH COVID19 CASES DIP TO 627 IN TAMIL NADU</td>\n",
       "      <td>Tamil Nadu</td>\n",
       "      <td>01:13</td>\n",
       "      <td>4</td>\n",
       "    </tr>\n",
       "    <tr>\n",
       "      <th>377</th>\n",
       "      <td>FIVE MORE CASES OF OMICRON IN KARNATAKA</td>\n",
       "      <td>Karnataka</td>\n",
       "      <td>00:02</td>\n",
       "      <td>4</td>\n",
       "    </tr>\n",
       "  </tbody>\n",
       "</table>\n",
       "</div>"
      ],
      "text/plain": [
       "                                                 Title           State   Time  \\\n",
       "4                               TWO MORE OMICRON CASES          Kerala  23:16   \n",
       "16                 STATE ADDS 181 CASES TO COVID TALLY       Hyderabad  22:47   \n",
       "34             ERODE DISTRICT REPORTS 48 COVID19 CASES      Coimbatore  22:18   \n",
       "62   HC ASKS CB TO CONDUCT PROPER PROBE IN MONSON C...          Kerala  20:51   \n",
       "68                    3,471 NEW COVID19 CASES IN STATE          Kerala  20:37   \n",
       "70   ICMR APPROVES INDIGENOUSLY DEVELOPED KIT TO DE...          Health  20:34   \n",
       "80                    44 FRESH CASES IN CENTRAL REGION  Tiruchirapalli  20:16   \n",
       "142  44 CRORE SPENT TO ASSIST INDIAN CITIZENS ABROA...        National  18:03   \n",
       "214  NEW DRUG COULD TREAT PATIENTS HOSPITALISED WIT...          Health  12:54   \n",
       "220  DELHI LOGS 10 NEW CASES OF OMICRON, TOTAL REAC...           Delhi  12:42   \n",
       "236   MISS WORLD FINALE POSTPONED DUE TO COVID19 FEARS   International  10:47   \n",
       "266  NO NEW OMICRON CASES, BUT MAHARASHTRAS COVID19...    Other States  03:53   \n",
       "291         ONE DEATH AND 24 FRESH COVID19 CASES IN UT      Puducherry  01:29   \n",
       "308       FRESH COVID19 CASES DIP TO 627 IN TAMIL NADU      Tamil Nadu  01:13   \n",
       "377            FIVE MORE CASES OF OMICRON IN KARNATAKA       Karnataka  00:02   \n",
       "\n",
       "     Cluster  \n",
       "4          4  \n",
       "16         4  \n",
       "34         4  \n",
       "62         4  \n",
       "68         4  \n",
       "70         4  \n",
       "80         4  \n",
       "142        4  \n",
       "214        4  \n",
       "220        4  \n",
       "236        4  \n",
       "266        4  \n",
       "291        4  \n",
       "308        4  \n",
       "377        4  "
      ]
     },
     "execution_count": 124,
     "metadata": {},
     "output_type": "execute_result"
    }
   ],
   "source": [
    "news[news[\"Cluster\"]==4]"
   ]
  },
  {
   "cell_type": "code",
   "execution_count": 125,
   "id": "b7d6697a",
   "metadata": {},
   "outputs": [],
   "source": [
    "E = {\n",
    "    0:\"Crime\",\n",
    "    1:\"Social\",\n",
    "    2:\"Geopolitics\",\n",
    "    3:\"Nation\",\n",
    "    4:\"Health\"\n",
    "    }"
   ]
  },
  {
   "cell_type": "code",
   "execution_count": 126,
   "id": "65db818d",
   "metadata": {},
   "outputs": [],
   "source": [
    "category = []\n",
    "for i in news.Cluster:\n",
    "    category.append(E[i])"
   ]
  },
  {
   "cell_type": "code",
   "execution_count": 128,
   "id": "571e328c",
   "metadata": {},
   "outputs": [],
   "source": [
    "news[\"Category\"] = category"
   ]
  },
  {
   "cell_type": "code",
   "execution_count": 129,
   "id": "2996088c",
   "metadata": {},
   "outputs": [
    {
     "data": {
      "text/html": [
       "<div>\n",
       "<style scoped>\n",
       "    .dataframe tbody tr th:only-of-type {\n",
       "        vertical-align: middle;\n",
       "    }\n",
       "\n",
       "    .dataframe tbody tr th {\n",
       "        vertical-align: top;\n",
       "    }\n",
       "\n",
       "    .dataframe thead th {\n",
       "        text-align: right;\n",
       "    }\n",
       "</style>\n",
       "<table border=\"1\" class=\"dataframe\">\n",
       "  <thead>\n",
       "    <tr style=\"text-align: right;\">\n",
       "      <th></th>\n",
       "      <th>Title</th>\n",
       "      <th>State</th>\n",
       "      <th>Time</th>\n",
       "      <th>Cluster</th>\n",
       "      <th>Category</th>\n",
       "    </tr>\n",
       "  </thead>\n",
       "  <tbody>\n",
       "    <tr>\n",
       "      <th>0</th>\n",
       "      <td>DMK GOVERNMENT DECLARES TAMIL THAI VAAZHTHU TH...</td>\n",
       "      <td>Tamil Nadu</td>\n",
       "      <td>23:31</td>\n",
       "      <td>3</td>\n",
       "      <td>Nation</td>\n",
       "    </tr>\n",
       "    <tr>\n",
       "      <th>1</th>\n",
       "      <td>REHAB EXPRESS TO THE AID OF THE DIFFERENTLY ABLED</td>\n",
       "      <td>Kerala</td>\n",
       "      <td>23:28</td>\n",
       "      <td>3</td>\n",
       "      <td>Nation</td>\n",
       "    </tr>\n",
       "    <tr>\n",
       "      <th>2</th>\n",
       "      <td>TRS MPS, MINISTERS PLAN ANOTHER VISIT TO DELHI</td>\n",
       "      <td>Hyderabad</td>\n",
       "      <td>23:27</td>\n",
       "      <td>2</td>\n",
       "      <td>Geopolitics</td>\n",
       "    </tr>\n",
       "    <tr>\n",
       "      <th>3</th>\n",
       "      <td>3 CHADDI GANG MEMBERS ARRESTED</td>\n",
       "      <td>Andhra Pradesh</td>\n",
       "      <td>23:17</td>\n",
       "      <td>0</td>\n",
       "      <td>Crime</td>\n",
       "    </tr>\n",
       "    <tr>\n",
       "      <th>4</th>\n",
       "      <td>TWO MORE OMICRON CASES</td>\n",
       "      <td>Kerala</td>\n",
       "      <td>23:16</td>\n",
       "      <td>4</td>\n",
       "      <td>Health</td>\n",
       "    </tr>\n",
       "    <tr>\n",
       "      <th>...</th>\n",
       "      <td>...</td>\n",
       "      <td>...</td>\n",
       "      <td>...</td>\n",
       "      <td>...</td>\n",
       "      <td>...</td>\n",
       "    </tr>\n",
       "    <tr>\n",
       "      <th>381</th>\n",
       "      <td>TRIBUTES PAID TO GEN BIPIN RAWAT, OTHERS</td>\n",
       "      <td>Karnataka</td>\n",
       "      <td>00:01</td>\n",
       "      <td>2</td>\n",
       "      <td>Geopolitics</td>\n",
       "    </tr>\n",
       "    <tr>\n",
       "      <th>382</th>\n",
       "      <td>340 KG GANJA SEIZED IN TIRUPPUR</td>\n",
       "      <td>Coimbatore</td>\n",
       "      <td>00:01</td>\n",
       "      <td>1</td>\n",
       "      <td>Social</td>\n",
       "    </tr>\n",
       "    <tr>\n",
       "      <th>383</th>\n",
       "      <td>TAC FOR IMPOSING SEC 144, NIGHT CURFEW IN THE ...</td>\n",
       "      <td>Karnataka</td>\n",
       "      <td>00:01</td>\n",
       "      <td>3</td>\n",
       "      <td>Nation</td>\n",
       "    </tr>\n",
       "    <tr>\n",
       "      <th>384</th>\n",
       "      <td>SCHOOLS UP IN ARMS OVER GOVT DEMAND FOR SPORTS...</td>\n",
       "      <td>Karnataka</td>\n",
       "      <td>00:00</td>\n",
       "      <td>1</td>\n",
       "      <td>Social</td>\n",
       "    </tr>\n",
       "    <tr>\n",
       "      <th>385</th>\n",
       "      <td>FAKE IT OFFICERS HELD FOR RAIDING REALTORS HOME</td>\n",
       "      <td>Hyderabad</td>\n",
       "      <td>00:00</td>\n",
       "      <td>0</td>\n",
       "      <td>Crime</td>\n",
       "    </tr>\n",
       "  </tbody>\n",
       "</table>\n",
       "<p>386 rows × 5 columns</p>\n",
       "</div>"
      ],
      "text/plain": [
       "                                                 Title           State   Time  \\\n",
       "0    DMK GOVERNMENT DECLARES TAMIL THAI VAAZHTHU TH...      Tamil Nadu  23:31   \n",
       "1    REHAB EXPRESS TO THE AID OF THE DIFFERENTLY ABLED          Kerala  23:28   \n",
       "2       TRS MPS, MINISTERS PLAN ANOTHER VISIT TO DELHI       Hyderabad  23:27   \n",
       "3                       3 CHADDI GANG MEMBERS ARRESTED  Andhra Pradesh  23:17   \n",
       "4                               TWO MORE OMICRON CASES          Kerala  23:16   \n",
       "..                                                 ...             ...    ...   \n",
       "381           TRIBUTES PAID TO GEN BIPIN RAWAT, OTHERS       Karnataka  00:01   \n",
       "382                    340 KG GANJA SEIZED IN TIRUPPUR      Coimbatore  00:01   \n",
       "383  TAC FOR IMPOSING SEC 144, NIGHT CURFEW IN THE ...       Karnataka  00:01   \n",
       "384  SCHOOLS UP IN ARMS OVER GOVT DEMAND FOR SPORTS...       Karnataka  00:00   \n",
       "385    FAKE IT OFFICERS HELD FOR RAIDING REALTORS HOME       Hyderabad  00:00   \n",
       "\n",
       "     Cluster     Category  \n",
       "0          3       Nation  \n",
       "1          3       Nation  \n",
       "2          2  Geopolitics  \n",
       "3          0        Crime  \n",
       "4          4       Health  \n",
       "..       ...          ...  \n",
       "381        2  Geopolitics  \n",
       "382        1       Social  \n",
       "383        3       Nation  \n",
       "384        1       Social  \n",
       "385        0        Crime  \n",
       "\n",
       "[386 rows x 5 columns]"
      ]
     },
     "execution_count": 129,
     "metadata": {},
     "output_type": "execute_result"
    }
   ],
   "source": [
    "news"
   ]
  },
  {
   "cell_type": "code",
   "execution_count": null,
   "id": "849dfdd3",
   "metadata": {},
   "outputs": [],
   "source": []
  }
 ],
 "metadata": {
  "kernelspec": {
   "display_name": "Python 3 (ipykernel)",
   "language": "python",
   "name": "python3"
  },
  "language_info": {
   "codemirror_mode": {
    "name": "ipython",
    "version": 3
   },
   "file_extension": ".py",
   "mimetype": "text/x-python",
   "name": "python",
   "nbconvert_exporter": "python",
   "pygments_lexer": "ipython3",
   "version": "3.8.11"
  }
 },
 "nbformat": 4,
 "nbformat_minor": 5
}
